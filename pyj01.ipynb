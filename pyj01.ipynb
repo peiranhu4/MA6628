{
 "cells": [
  {
   "cell_type": "code",
   "execution_count": 22,
   "metadata": {
    "collapsed": false
   },
   "outputs": [
    {
     "name": "stdout",
     "output_type": "stream",
     "text": [
      "The total number of twin primes between 1000 and 1000000 is 8134\n",
      "The biggest twin prime I could find is 999959 999961\n"
     ]
    }
   ],
   "source": [
    "# MA6628\n",
    "# Prj01 (L01)\n",
    "\n",
    "import math\n",
    "import sys\n",
    "def isprime(n):\n",
    "    if n%2==0:\n",
    "        return 0\n",
    "    for i in range(3,int(n**0.5)+1,2):\n",
    "        if n%i == 0:\n",
    "            return 0\n",
    "    return 1\n",
    "if __name__ == \"__main__\":\n",
    "    a,b=1000,1002\n",
    "    count =0\n",
    "    for x in range(1000,1000000):\n",
    "        if isprime(x) * isprime(x+2) is 1:\n",
    "            a,b=x,x+2\n",
    "            count = count +1\n",
    "    print('The total number of twin primes between 1000 and 1000000 is %d' %count)\n",
    "    print('The biggest twin prime I could find is %d %d' %(a,b))"
   ]
  },
  {
   "cell_type": "markdown",
   "metadata": {
    "collapsed": false
   },
   "source": [
    "# "
   ]
  }
 ],
 "metadata": {
  "kernelspec": {
   "display_name": "Python 3 (Anaconda 5)",
   "language": "python",
   "name": "anaconda5"
  }
 },
 "nbformat": 4,
 "nbformat_minor": 0
}