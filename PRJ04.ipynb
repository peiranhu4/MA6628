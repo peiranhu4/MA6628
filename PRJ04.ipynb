{
 "cells": [
  {
   "cell_type": "markdown",
   "metadata": {
    "collapsed": false
   },
   "source": [
    "# Prj04."
   ]
  },
  {
   "cell_type": "markdown",
   "metadata": {
    "collapsed": false
   },
   "source": [
    "For the BS model the call and put price with maturity $T$ and $K$ will be known as $C_0$ and $P_0$ given as below:\n",
    "$$C_0 = S_0  \\Phi(d_1) - K e^{-rT} \\Phi(d_2),$$\n",
    "where $d_1$ is\n",
    "$$d_1 = \\frac{(r + \\frac 1 2 \\sigma^2) T + \\ln \\frac{K}{S_0}}{\\sigma \\sqrt T},$$\n",
    "and $d_2$ is\n",
    "$$d_2 = \\frac{(r - \\frac 1 2 \\sigma^2) T + \\ln \\frac{K}{S_0}}{\\sigma \\sqrt T},$$\n"
   ]
  },
  {
   "cell_type": "code",
   "execution_count": 16,
   "metadata": {
    "collapsed": false
   },
   "outputs": [
   ],
   "source": [
    "import numpy as np\n",
    "import scipy.stats as ss\n",
    "import time \n",
    "import math"
   ]
  },
  {
   "cell_type": "code",
   "execution_count": 17,
   "metadata": {
    "collapsed": false
   },
   "outputs": [
   ],
   "source": [
    "def d_1(St, K, t, T, r, σ):\n",
    "    ''' Calculates Black-Scholes-Merton European call option value.\n",
    "\n",
    "    Parameters\n",
    "    ==========\n",
    "    St : float\n",
    "        stock/index level at time t\n",
    "    K : float\n",
    "        strike price\n",
    "    t : float\n",
    "        valuation date\n",
    "    T : float\n",
    "        date of maturity/time-to-maturity if t = 0; T > t\n",
    "    r : float\n",
    "        constant, risk-less short rate\n",
    "    σ : float\n",
    "        volatility\n",
    "    '''\n",
    "    d1 = (math.log(St / K) + (r + 0.5 * σ ** 2)* (T - t)) / (σ * math.sqrt(T - t))\n",
    "    return d1\n"
   ]
  },
  {
   "cell_type": "code",
   "execution_count": 18,
   "metadata": {
    "collapsed": false
   },
   "outputs": [
   ],
   "source": [
    "def BSM_call_value(St, K, t, T, r, σ):\n",
    "   \n",
    "    d1 = d_1(St, K, t, T, r, σ)\n",
    "    d2 = d1 - σ * math.sqrt(T-t)\n",
    "    BSM_call_price =St * ss.norm.cdf(d1) - math.exp(-r * (T-t) )* K * ss.norm.cdf(d2)\n",
    "    return BSM_call_price"
   ]
  },
  {
   "cell_type": "code",
   "execution_count": 19,
   "metadata": {
    "collapsed": false
   },
   "outputs": [
   ],
   "source": [
    "#For the parameters given \n",
    "\n",
    "S0 = 290.68       \n",
    "K = 288        \n",
    "r = 0.02        \n",
    "σ = 0.30   \n",
    "Spot = np.datetime64('2018-09-27')\n",
    "Maturity = np.datetime64('2018-12-31')\n",
    "T = (Maturity - Spot)/np.timedelta64(1,'D')/365   \n",
    "\n",
    "Market_price = 9.23"
   ]
  },
  {
   "cell_type": "code",
   "execution_count": 20,
   "metadata": {
    "collapsed": false
   },
   "outputs": [
    {
     "name": "stdout",
     "output_type": "stream",
     "text": [
      "the price of BSM call value is 19.769937820552116\n",
      "the difference between BSM call price and market call price is 10.539937820552115\n"
     ]
    }
   ],
   "source": [
    "call_price = BSM_call_value(S0, K, 0, T, r, σ)\n",
    "difference = call_price - Market_price\n",
    "print('the price of BSM call value is',call_price)\n",
    "print('the difference between BSM call price and market call price is',difference)"
   ]
  },
  {
   "cell_type": "code",
   "execution_count": 25,
   "metadata": {
    "collapsed": false
   },
   "outputs": [
    {
     "name": "stdout",
     "output_type": "stream",
     "text": [
      "Optimization terminated successfully.\n",
      "         Current function value: 0.000000\n",
      "         Iterations: 15\n",
      "         Function evaluations: 30\n",
      "Implied volatility is 0.118242\n"
     ]
    }
   ],
   "source": [
    "import numpy as np\n",
    "from scipy import optimize\n",
    "\n",
    "def IVolBsm(S0, K, T, r, P0):\n",
    "    \"\"\"\n",
    "    Inputs:\n",
    "        S0: spot price\n",
    "        K: strike\n",
    "        T: time to maturity in year\n",
    "        r: rate\n",
    "        P0: market price\n",
    "    Outputs:\n",
    "        Implied volatility\n",
    "    \"\"\"\n",
    "    InitVol = .3\n",
    "    error = lambda sigma: (BSM_call_value(S0, K, 0, T, r, sigma) - P0)**2\n",
    "    opt = optimize.fmin(error, InitVol);\n",
    "    return opt[0]\n",
    "\n",
    "print('Implied volatility is %f' % IVolBsm(S0, K, T, r, Market_price))"
   ]
  },
  {
   "cell_type": "code",
   "execution_count": 0,
   "metadata": {
    "collapsed": false
   },
   "outputs": [
   ],
   "source": [
   ]
  }
 ],
 "metadata": {
  "kernelspec": {
   "display_name": "Python 3 (Anaconda 5)",
   "language": "python",
   "name": "anaconda5"
  }
 },
 "nbformat": 4,
 "nbformat_minor": 0
}