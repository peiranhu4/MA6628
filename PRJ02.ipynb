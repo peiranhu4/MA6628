{
 "cells": [
  {
   "cell_type": "markdown",
   "metadata": {
    "collapsed": false
   },
   "source": [
    "# Prj02.\n",
    "Geometric asian option price Geometric asian call option with maturity $T$ and strike $K$ has its pay off as\n",
    "$$C_t = \\ (A(T) - K)^+.$$\n",
    "\n",
    "For an Asian option for geometric average type, The call price can be written by\n",
    "$$C_0 = \\mathbb E [e^{-rT} (A(T) - K)^+].$$\n",
    "\n",
    "where $A(T)$ is geometric average of the stock price at times\n",
    "$0 \\le t_1 < t_2, \\ldots, < t_n = T$, i.e.\n",
    "\n",
    "\n",
    "$$A(T) = (S(t_1)S(t_2) \\ldots S(t_n))^{1/n}.$$"
   ]
  },
  {
   "cell_type": "markdown",
   "metadata": {
    "collapsed": false
   },
   "source": [
    "For the BS model the call and put price with maturity $T$ and $K$ will be known as $C_0$ and $P_0$ given as below:\n",
    "$$C_0 = S_0  \\Phi(d_1) - K e^{-rT} \\Phi(d_2),$$\n",
    "and \n",
    "$$P_0 = K e^{-rT} \\Phi(- d_2) - S_0  \\Phi(- d_1),$$\n",
    "where $d_1$ is\n",
    "$$d_1 = \\frac{(r + \\frac 1 2 \\sigma^2) T + \\ln \\frac{K}{S_0}}{\\sigma \\sqrt T},$$\n",
    "and $d_2$ is\n",
    "$$d_2 = \\frac{(r - \\frac 1 2 \\sigma^2) T + \\ln \\frac{K}{S_0}}{\\sigma \\sqrt T},$$\n",
    "\n",
    "\n",
    "Under the above BS model, one can show that the distribution of $A(T)$ is again a lognormal under EMM in the form of\n",
    "$$A_T = S_0 \\exp \\{ (\\hat r - \\frac 1 2 \\hat \\sigma^2)T + \\hat \\sigma \\sqrt T \\hat Z\\}.$$\n",
    "In the above, $\\hat Z$ is a standard normal random variable, $\\hat \\sigma$ is\n",
    "$$\\hat \\sigma = \\frac{\\sigma}{n} \\sqrt{\\frac{(n+1)(2n+1)}{6}}$$\n",
    "and $\\hat r$ is\n",
    "$$\\hat r = \\frac 1 2 \\hat \\sigma^2 + \\frac{n+1}{2n}(r - \\frac 1 2 \\sigma^2).$$\n",
    "Then, by fundamental asset pricing theory, we have GAC price by\n",
    "$$\\Pi_0^c = e^{(\\hat r - r)T} \\mathbb E [ e^{-\\hat r T} (A_T - K)^+].$$\n",
    "\n",
    "\n",
    "which is \n",
    "\n",
    "$$\\Pi_0^c = e^{(\\hat r - r)T}* BSM_c(S,T,K,\\hat r,\\hat \\sigma).$$"
   ]
  },
  {
   "cell_type": "code",
   "execution_count": 1,
   "metadata": {
    "collapsed": false
   },
   "outputs": [
   ],
   "source": [
    "import numpy as np\n",
    "import scipy.stats as ss\n",
    "import time \n",
    "import math"
   ]
  },
  {
   "cell_type": "code",
   "execution_count": 2,
   "metadata": {
    "collapsed": false
   },
   "outputs": [
   ],
   "source": [
    "def d_1(St, K, T, r, σ, n):\n",
    "    ''' Calculates Black-Scholes-Merton European call option value.\n",
    "\n",
    "    Parameters\n",
    "    ==========\n",
    "    St : float\n",
    "        stock/index level at time t\n",
    "    K : float\n",
    "        strike price\n",
    "    T : float\n",
    "        date of maturity/time-to-maturity if t = 0; T > t\n",
    "    r : float\n",
    "        constant, risk-less short rate\n",
    "    σ : float\n",
    "        volatility\n",
    "    '''\n",
    "    σ_hat = (σ/n)*math.sqrt ((1/6)*(n+1)*(2*n+1))\n",
    "    r_hat = 0.5*np.square(σ_hat) + ((n+1)/(2*n))*(r-(0.5* np.square(σ)))\n",
    "    d1 = (np.log(St / K) + (r_hat + 0.5 * np.square(σ_hat)* T)) / (σ_hat * np.sqrt(T))\n",
    "    return d1\n"
   ]
  },
  {
   "cell_type": "code",
   "execution_count": 3,
   "metadata": {
    "collapsed": false
   },
   "outputs": [
   ],
   "source": [
    "def Asian_BSM_call_value(St, K, T, r, σ, n):\n",
    "   \n",
    "    d1 = d_1(St, K, T, r, σ, n)\n",
    "    σ_hat = (σ/n)*math.sqrt ((1/6)*(n+1)*(2*n+1))\n",
    "    r_hat = 0.5*np.square(σ_hat) + ((n+1)/(2*n))*(r-(0.5* np.square(σ)))\n",
    "    d2 = d1 - σ_hat * math.sqrt(T)\n",
    "    Asian_call_value =math.exp((r_hat-r)*T)*(St * ss.norm.cdf(d1) - math.exp(-r_hat*T) * K * ss.norm.cdf(d2))\n",
    "    return Asian_call_value"
   ]
  },
  {
   "cell_type": "code",
   "execution_count": 4,
   "metadata": {
    "collapsed": false
   },
   "outputs": [
   ],
   "source": [
    "#For the parameters given ,we can find the GAC_price\n",
    "St = 100.0\n",
    "K = 110.0\n",
    "r = 0.0475\n",
    "σ = 0.20\n",
    "T = 1\n",
    "n = 4"
   ]
  },
  {
   "cell_type": "code",
   "execution_count": 5,
   "metadata": {
    "collapsed": false
   },
   "outputs": [
    {
     "name": "stdout",
     "output_type": "stream",
     "text": [
      "the price of Asian option for geometric average type is 2.7329867250697175\n"
     ]
    }
   ],
   "source": [
    "print('the price of Asian option for geometric average type is',Asian_BSM_call_value(St, K, T, r, σ, n))"
   ]
  },
  {
   "cell_type": "code",
   "execution_count": 0,
   "metadata": {
    "collapsed": false
   },
   "outputs": [
   ],
   "source": [
   ]
  }
 ],
 "metadata": {
  "kernelspec": {
   "display_name": "Python 3 (Anaconda 5)",
   "language": "python",
   "name": "anaconda5"
  }
 },
 "nbformat": 4,
 "nbformat_minor": 0
}
