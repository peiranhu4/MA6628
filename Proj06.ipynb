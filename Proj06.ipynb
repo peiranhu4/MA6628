{
 "cells": [
  {
   "cell_type": "markdown",
   "metadata": {},
   "source": [
    "__Prj06__\n",
    "\n",
    "Approximate the price $e^{-rT}\\mathbb E [F(S)]$, where\n",
    "\n",
    "- Asset follows $S = GBM(S_0, r, \\sigma)$;\n",
    "- Knock-in payoff is given as\n",
    "$$F(S) = 1000 \\cdot I(S_T > K) \\cdot I\\Big(\\min_{1\\le k \\le m} S(t_k) < H\\Big).$$\n",
    "\n",
    "__Parameters__\n",
    "\n",
    "- $r = 5\\%, \\sigma = 15\\%, S(0) = 95$\n",
    "- $T = 0.25, m = 50, H = 85, K = 96.$\n",
    "- $k = 1000$, $n = 1000$\n",
    "\n",
    "__Todo__\n",
    "\n",
    "- Repeat $k$ times of the ordinary MC, with $n$ simulation for each MC. Find mean, MSE, and confidence interval using $k$ many MC outputs.\n",
    "\n",
    "- Repeat the above procedure with importance sampling. (later)\n",
    "\n",
    "- Explain your decision of new probability in your importance sampling. Is it optimal choice? (later)"
   ]
  },
  {
   "cell_type": "code",
   "execution_count": 14,
   "metadata": {},
   "outputs": [],
   "source": [
    "import scipy.stats as ss\n",
    "import numpy as np\n",
    "import matplotlib.pyplot as plt"
   ]
  },
  {
   "cell_type": "code",
   "execution_count": 15,
   "metadata": {},
   "outputs": [],
   "source": [
    "class GBM():\n",
    "    def __init__(self, Drift, Vol, InitState):\n",
    "        self.Drift = Drift #scalar\n",
    "        self.Vol = Vol #scalar\n",
    "        self.InitState = InitState\n",
    "        self.Mu = lambda x, t: Drift * x\n",
    "        self.Sigma = lambda x, t: Vol * x\n",
    "        \n",
    "    def _Wn(self,T,m):\n",
    "        t=np.linspace(0,T,m+1)\n",
    "        Wh=np.zeros(m+1)\n",
    "        for i in range(m):\n",
    "            DeltaW = np.sqrt(t[i+1] - t[i]) * np.random.normal()\n",
    "            Wh[i+1] = Wh[i] + DeltaW\n",
    "        return Wh\n",
    "        \n",
    "    def _explicit_sol_(self, t, W_t):\n",
    "        x0 = self.InitState\n",
    "        b = self.Drift\n",
    "        sigma = self.Vol\n",
    "        return x0 * np.exp((b - sigma**2/2.) * t + sigma * W_t)"
   ]
  },
  {
   "cell_type": "code",
   "execution_count": 16,
   "metadata": {},
   "outputs": [
    {
     "name": "stdout",
     "output_type": "stream",
     "text": [
      "The final price is  0.5352671678676837\n"
     ]
    },
    {
     "data": {
      "image/png": "[encoded data removed]",
      "text/plain": [
       "<Figure size 432x288 with 1 Axes>"
      ]
     },
     "metadata": {
      "needs_background": "light"
     },
     "output_type": "display_data"
    },
    {
     "name": "stdout",
     "output_type": "stream",
     "text": [
      "The mean is  0.5352671678676837\n",
      "The MSE is  0.24875622687059268\n",
      "The 95 percent confidence interval is between -0.462 and 1.533\n"
     ]
    }
   ],
   "source": [
    "if __name__ == \"__main__\":\n",
    "    r = 0.05\n",
    "    vol = 0.15\n",
    "    S0 = 95\n",
    "    iGBM = GBM(r,vol,S0)\n",
    "    T = 0.25\n",
    "    m = 50\n",
    "    H = 85\n",
    "    K = 96\n",
    "    k = 1000\n",
    "    n = 1000\n",
    "\n",
    "    Price = np.zeros(n)\n",
    "    for j in range(n):\n",
    "        payoff = 0\n",
    "        for i in range(k):\n",
    "            W_t = iGBM._Wn(T,m)\n",
    "            t = np.linspace(0,T,m+1)\n",
    "            St = iGBM._explicit_sol_(t,W_t)\n",
    "\n",
    "            if St[-1] > K and min(St) < H:\n",
    "                payoff = payoff + 1000\n",
    "        Price[j] = payoff / k*np.exp(-r * T)\n",
    "\n",
    "    print('The final price is ',np.mean(Price))\n",
    "    plt.plot(np.linspace(0,n,n),Price)\n",
    "    plt.show()\n",
    "\n",
    "    mean = np.mean(Price)\n",
    "    print('The mean is ',mean)\n",
    "\n",
    "    mse = np.mean((Price - np.mean(Price)**2))\n",
    "    print('The MSE is ',mse)\n",
    "    print('The 95 percent confidence interval is between %4.3f and %4.3f' %(mean - 2*np.sqrt(mse), mean + 2*np.sqrt(mse)))"
   ]
  },
  {
   "cell_type": "markdown",
   "metadata": {},
   "source": [
    "### Answer for question 2\n",
    "* Knock-in payoff is given as below\n",
    "\n",
    "$$F(S) =exp(-rT) \\cdot 1000\\cdot I(S_T > K)\\cdot I(min_{1 \\leq k \\leq m} S (t_k) < H) $$\n",
    "\n",
    "* Crude Monte Carlo simulation can be sampled from the below normal random distribution f(x)\n",
    "\n",
    "$$ S_t = S_0 * exp(L_n)  $$\n",
    "$$ L_n = \\sum_{i=1}^{m}X_i  $$\n",
    "$$ X_i \\backsim N((r-\\frac{\\sigma^2}{2})\\delta t,\\sigma^2 \\delta t)  $$\n",
    "\n",
    "* If Importance Sampling (IS) is adopted, the alternative normal random distribution g(x) and the likelihood ratio are as follows\n",
    "\n",
    "$$ X_i \\backsim N((r-\\frac{\\sigma^2}{2})\\delta t-b,\\sigma^2 \\delta t)  $$\n",
    "$$ \\frac {f(x_1,x_2,...,x_m)}{g(x_1,x_2,...,x_m)} = exp(-\\frac{1}{2}\\sum_{k=1}^{m}{\\frac{(x_k-\\mu)}{\\sigma \\sqrt{\\delta t}}}^2) \\cdot exp(\\frac{1}{2}\\sum_{k=1}^{m}{\\frac{(x_k-\\mu+b)}{\\sigma \\sqrt{\\delta t}}}^2)\n",
    "= exp( \\frac{b}{\\sigma ^2 \\delta t}\\sum_{k=1}^{m}x_k-\\frac{mb}{\\sigma^2}(r-\\frac{\\sigma^2}{2})+\\frac{mb^2}{2 \\sigma^2 \\delta t}     )                                                                            $$\n",
    "\n",
    "* The payoff is as below (The sampling should follow the alternative pdf g(x))\n",
    "\n",
    "$$ exp(-rT)\\cdot \\frac {f(x_1,x_2,...,x_m)}{g(x_1,x_2,...,x_m)} \\cdot F^{g(x)}(S)$$"
   ]
  },
  {
   "cell_type": "code",
   "execution_count": 17,
   "metadata": {},
   "outputs": [],
   "source": [
    "import numpy as np\n",
    "import matplotlib.pyplot as plt\n",
    "import math\n",
    "from scipy import stats\n"
   ]
  },
  {
   "cell_type": "markdown",
   "metadata": {},
   "source": []
  },
  {
   "cell_type": "code",
   "execution_count": 18,
   "metadata": {},
   "outputs": [],
   "source": [
    "r=0.05\n",
    "vol=0.15\n",
    "S0=95\n",
    "T=0.25\n",
    "m=50\n",
    "H=85\n",
    "K=96\n",
    "k=1000\n",
    "n=1000\n",
    "dt=T/m"
   ]
  },
  {
   "cell_type": "markdown",
   "metadata": {},
   "source": [
    "* equivalent mu and sig"
   ]
  },
  {
   "cell_type": "code",
   "execution_count": 19,
   "metadata": {},
   "outputs": [],
   "source": [
    "b=math.log(S0/H)/m\n",
    "c=math.log(K/S0)\n",
    "\n",
    "mudt2=(r-0.5*vol**2)*dt-b\n",
    "mudt1=(r-0.5*vol**2)*dt"
   ]
  },
  {
   "cell_type": "code",
   "execution_count": 20,
   "metadata": {},
   "outputs": [
    {
     "name": "stdout",
     "output_type": "stream",
     "text": [
      "The final payoff is:  0.48726553141757084\n"
     ]
    }
   ],
   "source": [
    "sidt=vol*np.sqrt(dt)\n",
    "\n",
    "NCrossed=np.zeros(k)\n",
    "\n",
    "#Payoff=np.zeros(k)\n",
    "Times=np.zeros(k)\n",
    "StockVals=np.zeros(k)\n",
    "ISRatio=np.zeros(k)\n",
    "\n",
    "Ncrossed=0\n",
    "TBreach=0\n",
    "Price=np.zeros(n)\n",
    "\n",
    "for counter in range(n):\n",
    "    Payoff=np.zeros(k)\n",
    "    for i in range(k):\n",
    "        vetZ=np.random.normal(mudt2,sidt,m)\n",
    "        ##vetZ2=np.hstack()\n",
    "        vetZ2=np.hstack((math.log(S0),vetZ))\n",
    "        LogPath=np.cumsum(vetZ2)\n",
    "        St=np.exp(LogPath)\n",
    "\n",
    "\n",
    "        jcross=0\n",
    "        for j in range(len(St)):\n",
    "            if St[j]<H:\n",
    "                jcross=j\n",
    "                break\n",
    "            #print(jcross)\n",
    "            #the path crosses the lower barrier\n",
    "        if jcross>0:\n",
    "                \n",
    "           \n",
    "            ISRatio[Ncrossed]=np.exp(m*b**2/2/vol**2/dt+b/vol**2/dt*np.sum(vetZ)-m*b/vol**2*(r-vol**2/2))\n",
    "                \n",
    "            if St[-1]>K:\n",
    "                Payoff[Ncrossed]=ISRatio[Ncrossed]*1000*np.exp(-r*T)\n",
    "                Ncrossed=Ncrossed+1\n",
    "        \n",
    "    Price[counter]=np.sum(Payoff)/k   \n",
    "    #print(counter)    \n",
    "print('The final payoff is: ',np.mean(Price))"
   ]
  },
  {
   "cell_type": "code",
   "execution_count": 21,
   "metadata": {},
   "outputs": [
    {
     "data": {
      "image/png": "[encoded data removed]",
      "text/plain": [
       "<Figure size 432x288 with 1 Axes>"
      ]
     },
     "metadata": {
      "needs_background": "light"
     },
     "output_type": "display_data"
    },
    {
     "name": "stdout",
     "output_type": "stream",
     "text": [
      "The mean is  0.48726553141757084\n",
      "The standard is  0.49983780700335495\n",
      "The 95 percent confidence interval is between -0.512 and 1.487\n"
     ]
    }
   ],
   "source": [
    "plt.plot(np.linspace(0,n,n),Price)\n",
    "plt.show()\n",
    "mean=np.mean(Price)\n",
    "print('The mean is ',mean)\n",
    "std=np.sqrt(np.mean((Price-np.mean(Price)**2)))\n",
    "print('The standard is ',std)\n",
    "print('The 95 percent confidence interval is between %4.3f and %4.3f' %(mean-2*std,mean+2*std)) "
   ]
  },
  {
   "cell_type": "markdown",
   "metadata": {},
   "source": [
    "### Answer for question 3\n",
    "\n",
    "The optimal biased density function should have a similar shape of the original density function but with a thicker tail, in other words, the biased density function should have a revised drift value as well as an expanded standard deviation. \n",
    "\n",
    "In my selection of biased density function, I only assign a shifted dirft to increase the chance of crossing the barrier. I assume the logarithmic proportion log(S0/H) is distributed evenly along the m time steps. Although the chance of crossing the barier increases. The change of crossing the exercise price K at the maturity date has decreased. So my selection of biased density function is not the optimal.\n",
    "\n",
    "* Revised drift value\n",
    "$$ b=\\frac{1}{m} log(\\frac{S_0}{H}) $$\n",
    "* Initial Density Function f(x)\n",
    "$$ X_i \\backsim N((r-\\frac{\\sigma^2}{2})\\delta t,\\sigma^2 \\delta t)  $$\n",
    "* Biased Density Function g(x)\n",
    "$$ X_i \\backsim N((r-\\frac{\\sigma^2}{2})\\delta t-b,\\sigma^2 \\delta t)  $$"
   ]
  },
  {
   "cell_type": "code",
   "execution_count": 27,
   "metadata": {},
   "outputs": [],
   "source": [
    "import numpy as np\n",
    "from scipy.stats import norm\n",
    "import scipy.stats as ss\n",
    "import matplotlib.pyplot as plt\n",
    "from pylab import plt"
   ]
  },
  {
   "cell_type": "code",
   "execution_count": 28,
   "metadata": {},
   "outputs": [],
   "source": [
    "def bm_1d(T, m):\n",
    "    dt = T/m\n",
    "    dW = np.sqrt(dt)*norm.rvs(size = m)\n",
    "    return dW.cumsum()\n",
    "\n",
    "def abm_1d(T, m, b, sigma, x0):\n",
    "    dt = T/m\n",
    "    dW = np.sqrt(dt)*norm.rvs(size = m)\n",
    "    dX = b*dt + sigma*dW\n",
    "    X = dX.cumsum()\n",
    "    return x0 + X\n",
    "\n",
    "def gbm_1d(T, m, b, sigma, x0):\n",
    "    L = abm_1d(T, m, b - 0.5*sigma**2, sigma, 0) #normalized log process\n",
    "    return x0*np.exp(L)"
   ]
  },
  {
   "cell_type": "code",
   "execution_count": 29,
   "metadata": {},
   "outputs": [],
   "source": [
    "r = .05; sigma = 0.15; s0 = 95\n",
    "T = 0.25; H = 85; K = 96\n",
    "k = 1000; n = 1000; m = 50\n",
    "dt = T/m"
   ]
  },
  {
   "cell_type": "code",
   "execution_count": 30,
   "metadata": {},
   "outputs": [],
   "source": [
    "val = np.zeros(k)\n",
    "payoff = np.zeros(n)\n",
    "for i in np.arange(k):\n",
    "    for j in np.arange(n):\n",
    "        S = gbm_1d(T, m, r, sigma, s0)\n",
    "        payoff[j] = 1000*float(S[-1]>K)*float(S.min()<H)\n",
    "    val[i] = payoff.mean()*np.exp(-r*T)"
   ]
  },
  {
   "cell_type": "code",
   "execution_count": 31,
   "metadata": {},
   "outputs": [],
   "source": [
    "a = 0.05\n",
    "Int_l = sample_mean - sample_variance/ np.sqrt(k) * ss.norm.cdf(a/2)\n",
    "Int_r = sample_mean + sample_variance/ np.sqrt(k) * ss.norm.cdf(a/2)\n",
    "b = - np.log(H/s0)\n",
    "c = np.log(K/s0)\n",
    "r_1 = 0.06\n",
    "r_2 = 0.06\n",
    "theta_1 = - (r_1 + r)/sigma\n",
    "theta_2 =  (r_2 - r) /sigma\n",
    "\n",
    "h = int(m/2)"
   ]
  },
  {
   "cell_type": "code",
   "execution_count": 32,
   "metadata": {},
   "outputs": [
    {
     "name": "stdout",
     "output_type": "stream",
     "text": [
      "[0.52890069 0.50666428 0.56383651 0.56788723 0.5235034 ]\n",
      "[0.35728172 0.35698573 0.39200925 0.3541247  0.3064223 ]\n"
     ]
    }
   ],
   "source": [
    "r_list = np.linspace(0.03, 0.07, 5)\n",
    "\n",
    "l = 5\n",
    "val = np.zeros(k)\n",
    "payoff = np.zeros(n)\n",
    "sample_variance = np.zeros(l)\n",
    "sample_mean = np.zeros(l)\n",
    "\n",
    "for s in np.arange(l):\n",
    "    for i in np.arange(k):\n",
    "        for j in np.arange(n):\n",
    "            dW = np.sqrt(dt)*norm.rvs(size = m)\n",
    "            W_t = dW.cumsum()     \n",
    "            dL1_t = (- r_list[s] - 0.5 * sigma**2) *dt + sigma * dW[0:h]   \n",
    "            dL2_t = (r_list[s] - 0.5 *sigma**2)*dt + sigma* dW[h:(m+1)]       \n",
    "            L = np.append(dL1_t , dL2_t).cumsum()     \n",
    "            theta_1 = - (r_list[s] + r)/sigma\n",
    "            theta_2 =  (r_list[s] - r) /sigma\n",
    "            gamma1 = theta_1 * dL1_t.cumsum()[-1] + theta_2 * dL2_t.cumsum()[-1] - (theta_1**2 + theta_2**2)/T/4\n",
    "            gamma = np.exp(gamma1)\n",
    "            payoff[j] = 1000*float(L[-1]>c)*float(L.min()<-b) * gamma \n",
    "        val[i] = payoff.mean()*np.exp(-r*T)\n",
    "    sample_mean[s] = val.mean()\n",
    "    sample_variance[s] = val.var()\n",
    "\n",
    "print(sample_mean)\n",
    "print(sample_variance)"
   ]
  },
  {
   "cell_type": "markdown",
   "metadata": {},
   "source": [
    "The MSE of the MC simulation change with the $r_1$ and $r_2$ we have seted, but the change of the option value is relatively smaller. So the $\\hat{r_s}$ we choosed in the question 2 is not the optimal one. "
   ]
  },
  {
   "cell_type": "code",
   "execution_count": null,
   "metadata": {},
   "outputs": [],
   "source": []
  }
 ],
 "metadata": {
  "kernelspec": {
   "display_name": "Python 3",
   "language": "python",
   "name": "python3"
  },
  "language_info": {
   "codemirror_mode": {
    "name": "ipython",
    "version": 3
   },
   "file_extension": ".py",
   "mimetype": "text/x-python",
   "name": "python",
   "nbconvert_exporter": "python",
   "pygments_lexer": "ipython3",
   "version": "3.7.0"
  }
 },
 "nbformat": 4,
 "nbformat_minor": 1
}
